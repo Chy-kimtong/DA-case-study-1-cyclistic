{
 "cells": [
  {
   "cell_type": "markdown",
   "id": "ad251330",
   "metadata": {},
   "source": [
    "# Case Study 1: How Does a Bike-Share Navigate Speedy Success?"
   ]
  },
  {
   "cell_type": "markdown",
   "id": "bc8b6a1a",
   "metadata": {},
   "source": [
    "Thanks to the guide from Mr.Randell Cordova: https://medium.com/@rancordz/case-study-how-does-a-bike-share-navigate-speedy-success-rstudio-71c22a5c7719 <br>\n",
    "and also the guide from google case study. <br>\n",
    "Within this analysis, I would like to interpret it into the python, and also this is the first time I make a complete analyst, and I will upload more of my previous analyst soon. <br>\n",
    "Further implementation into dataset will get upload in the future."
   ]
  },
  {
   "cell_type": "markdown",
   "id": "5df8b3d6",
   "metadata": {},
   "source": [
    "#### intro case, introduce problem, follow: ask, prepare, process, analyze, share, and act."
   ]
  },
  {
   "cell_type": "markdown",
   "id": "75728a81",
   "metadata": {},
   "source": [
    "### Scenario\n",
    "You are a junior data analyst working in the marketing analyst team at Cyclistic, a bike-share company in Chicago. The director of\n",
    "marketing believes the company’s future success depends on maximizing the number of annual memberships. Therefore, your\n",
    "team wants to understand how casual riders and annual members use Cyclistic bikes differently. From these insights, your team will\n",
    "design a new marketing strategy to convert casual riders into annual members. But first, Cyclistic executives must approve your\n",
    "recommendations, so they must be backed up with compelling data insights and professional data visualizations"
   ]
  },
  {
   "cell_type": "markdown",
   "id": "2886584e",
   "metadata": {},
   "source": [
    "### About the company\n",
    "In 2016, Cyclistic launched a successful bike-share offering. Since then, the program has grown to a fleet of 5,824 bicycles that are\n",
    "geotracked and locked into a network of 692 stations across Chicago. The bikes can be unlocked from one station and returned to\n",
    "any other station in the system anytime. <br><br>\n",
    "Until now, Cyclistic’s marketing strategy relied on building general awareness and appealing to broad consumer segments. One\n",
    "2\n",
    "approach that helped make these things possible was the flexibility of its pricing plans: single-ride passes, full-day passes, and\n",
    "annual memberships. Customers who purchase single-ride or full-day passes are referred to as casual riders. Customers who\n",
    "purchase annual memberships are Cyclistic members. <br><br>\n",
    "Cyclistic’s finance analysts have concluded that annual members are much more profitable than casual riders. Although the pricing\n",
    "flexibility helps Cyclistic attract more customers, Moreno believes that maximizing the number of annual members will be key to\n",
    "future growth. Rather than creating a marketing campaign that targets all-new customers, Moreno believes there is a very good\n",
    "chance to convert casual riders into members. She notes that casual riders are already aware of the Cyclistic program and have\n",
    "chosen Cyclistic for their mobility needs. <br><br>\n",
    "Moreno has set a clear goal: Design marketing strategies aimed at converting casual riders into annual members. In order to do\n",
    "that, however, the marketing analyst team needs to better understand how annual members and casual riders differ, why casual\n",
    "riders would buy a membership, and how digital media could affect their marketing tactics. Moreno and her team are interested in\n",
    "analyzing the Cyclistic historical bike trip data to identify trends"
   ]
  },
  {
   "cell_type": "markdown",
   "id": "c762d1a0",
   "metadata": {},
   "source": [
    "## ASK\n"
   ]
  },
  {
   "cell_type": "markdown",
   "id": "09bde5bc",
   "metadata": {},
   "source": [
    "Three questions will guide the future marketing program: <br>\n",
    "1. How do annual members and casual riders use Cyclistic bikes differently?<br>\n",
    "2. Why would casual riders buy Cyclistic annual memberships?<br>\n",
    "3. How can Cyclistic use digital media to influence casual riders to become members?<br>"
   ]
  },
  {
   "cell_type": "markdown",
   "id": "9cb2476c",
   "metadata": {},
   "source": [
    "I am trying to solve the first question by <b>comparing the annual and casual to see how different and observe the situation and bring some conclusion </b> about the result of the data we gonna demonstrate. "
   ]
  },
  {
   "cell_type": "markdown",
   "id": "57b54aa2",
   "metadata": {},
   "source": [
    "## Prepare\n",
    "check for the dataset and prepare it to be used later <br>\n",
    "import all needed packages and import data"
   ]
  },
  {
   "cell_type": "code",
   "execution_count": 25,
   "id": "7794dc54",
   "metadata": {},
   "outputs": [],
   "source": [
    "# import\n",
    "import pandas as pd\n",
    "import numpy as np\n",
    "import matplotlib.pyplot as plt \n",
    "import seaborn as sns"
   ]
  },
  {
   "cell_type": "markdown",
   "id": "cb84f0e3",
   "metadata": {},
   "source": [
    "Located the file of data in specific folder, loaded by this below code to make it into one dataframe"
   ]
  },
  {
   "cell_type": "code",
   "execution_count": 2,
   "id": "03b7e3fd",
   "metadata": {},
   "outputs": [
    {
     "name": "stderr",
     "output_type": "stream",
     "text": [
      "C:\\Users\\ASUS ZENBOOK\\AppData\\Local\\Temp\\ipykernel_18348\\2519469798.py:18: FutureWarning: The frame.append method is deprecated and will be removed from pandas in a future version. Use pandas.concat instead.\n",
      "  combined_df = combined_df.append(df, ignore_index=True)\n",
      "C:\\Users\\ASUS ZENBOOK\\AppData\\Local\\Temp\\ipykernel_18348\\2519469798.py:18: FutureWarning: The frame.append method is deprecated and will be removed from pandas in a future version. Use pandas.concat instead.\n",
      "  combined_df = combined_df.append(df, ignore_index=True)\n",
      "C:\\Users\\ASUS ZENBOOK\\AppData\\Local\\Temp\\ipykernel_18348\\2519469798.py:18: FutureWarning: The frame.append method is deprecated and will be removed from pandas in a future version. Use pandas.concat instead.\n",
      "  combined_df = combined_df.append(df, ignore_index=True)\n",
      "C:\\Users\\ASUS ZENBOOK\\AppData\\Local\\Temp\\ipykernel_18348\\2519469798.py:18: FutureWarning: The frame.append method is deprecated and will be removed from pandas in a future version. Use pandas.concat instead.\n",
      "  combined_df = combined_df.append(df, ignore_index=True)\n",
      "C:\\Users\\ASUS ZENBOOK\\AppData\\Local\\Temp\\ipykernel_18348\\2519469798.py:18: FutureWarning: The frame.append method is deprecated and will be removed from pandas in a future version. Use pandas.concat instead.\n",
      "  combined_df = combined_df.append(df, ignore_index=True)\n",
      "C:\\Users\\ASUS ZENBOOK\\AppData\\Local\\Temp\\ipykernel_18348\\2519469798.py:18: FutureWarning: The frame.append method is deprecated and will be removed from pandas in a future version. Use pandas.concat instead.\n",
      "  combined_df = combined_df.append(df, ignore_index=True)\n",
      "C:\\Users\\ASUS ZENBOOK\\AppData\\Local\\Temp\\ipykernel_18348\\2519469798.py:18: FutureWarning: The frame.append method is deprecated and will be removed from pandas in a future version. Use pandas.concat instead.\n",
      "  combined_df = combined_df.append(df, ignore_index=True)\n",
      "C:\\Users\\ASUS ZENBOOK\\AppData\\Local\\Temp\\ipykernel_18348\\2519469798.py:18: FutureWarning: The frame.append method is deprecated and will be removed from pandas in a future version. Use pandas.concat instead.\n",
      "  combined_df = combined_df.append(df, ignore_index=True)\n",
      "C:\\Users\\ASUS ZENBOOK\\AppData\\Local\\Temp\\ipykernel_18348\\2519469798.py:18: FutureWarning: The frame.append method is deprecated and will be removed from pandas in a future version. Use pandas.concat instead.\n",
      "  combined_df = combined_df.append(df, ignore_index=True)\n",
      "C:\\Users\\ASUS ZENBOOK\\AppData\\Local\\Temp\\ipykernel_18348\\2519469798.py:18: FutureWarning: The frame.append method is deprecated and will be removed from pandas in a future version. Use pandas.concat instead.\n",
      "  combined_df = combined_df.append(df, ignore_index=True)\n",
      "C:\\Users\\ASUS ZENBOOK\\AppData\\Local\\Temp\\ipykernel_18348\\2519469798.py:18: FutureWarning: The frame.append method is deprecated and will be removed from pandas in a future version. Use pandas.concat instead.\n",
      "  combined_df = combined_df.append(df, ignore_index=True)\n",
      "C:\\Users\\ASUS ZENBOOK\\AppData\\Local\\Temp\\ipykernel_18348\\2519469798.py:18: FutureWarning: The frame.append method is deprecated and will be removed from pandas in a future version. Use pandas.concat instead.\n",
      "  combined_df = combined_df.append(df, ignore_index=True)\n"
     ]
    }
   ],
   "source": [
    "import os\n",
    "import pandas as pd\n",
    "\n",
    "# Specify the folder path and file type\n",
    "folder_path = 'C:/Users/ASUS ZENBOOK/Desktop/DA-case-study-1-cyclistic/DA C8 Case Study 1'\n",
    "file_type = '.csv'  # Change this to the file type you're working with, e.g., '.csv', '.xlsx', etc.\n",
    "\n",
    "# Get a list of all files in the folder with the specified file type\n",
    "files = [file for file in os.listdir(folder_path) if file.endswith(file_type)]\n",
    "\n",
    "# Initialize an empty DataFrame to store the data\n",
    "combined_df = pd.DataFrame()\n",
    "\n",
    "# Iterate through each file and append its data to the combined DataFrame\n",
    "for file in files:\n",
    "    file_path = os.path.join(folder_path, file)\n",
    "    df = pd.read_csv(file_path)  # Use pd.read_excel() for Excel files\n",
    "    combined_df = combined_df.append(df, ignore_index=True)\n",
    "\n",
    "# Now, combined_df contains the data from all files in the specified folder"
   ]
  },
  {
   "cell_type": "code",
   "execution_count": 3,
   "id": "ea3c754c",
   "metadata": {},
   "outputs": [
    {
     "data": {
      "text/plain": [
       "(5779444, 13)"
      ]
     },
     "execution_count": 3,
     "metadata": {},
     "output_type": "execute_result"
    }
   ],
   "source": [
    "# check the shape of the dataset\n",
    "combined_df.shape"
   ]
  },
  {
   "cell_type": "code",
   "execution_count": 4,
   "id": "25db91a2",
   "metadata": {},
   "outputs": [
    {
     "data": {
      "text/plain": [
       "Index(['ride_id', 'rideable_type', 'started_at', 'ended_at',\n",
       "       'start_station_name', 'start_station_id', 'end_station_name',\n",
       "       'end_station_id', 'start_lat', 'start_lng', 'end_lat', 'end_lng',\n",
       "       'member_casual'],\n",
       "      dtype='object')"
      ]
     },
     "execution_count": 4,
     "metadata": {},
     "output_type": "execute_result"
    }
   ],
   "source": [
    "# find out how many columns we have\n",
    "combined_df.columns"
   ]
  },
  {
   "cell_type": "code",
   "execution_count": 5,
   "id": "ca4580f3",
   "metadata": {},
   "outputs": [
    {
     "name": "stdout",
     "output_type": "stream",
     "text": [
      "<class 'pandas.core.frame.DataFrame'>\n",
      "RangeIndex: 5779444 entries, 0 to 5779443\n",
      "Data columns (total 13 columns):\n",
      " #   Column              Dtype  \n",
      "---  ------              -----  \n",
      " 0   ride_id             object \n",
      " 1   rideable_type       object \n",
      " 2   started_at          object \n",
      " 3   ended_at            object \n",
      " 4   start_station_name  object \n",
      " 5   start_station_id    object \n",
      " 6   end_station_name    object \n",
      " 7   end_station_id      object \n",
      " 8   start_lat           float64\n",
      " 9   start_lng           float64\n",
      " 10  end_lat             float64\n",
      " 11  end_lng             float64\n",
      " 12  member_casual       object \n",
      "dtypes: float64(4), object(9)\n",
      "memory usage: 573.2+ MB\n"
     ]
    }
   ],
   "source": [
    "# instead of checking shape and columns and dtypes, we can use info function\n",
    "combined_df.info()"
   ]
  },
  {
   "cell_type": "code",
   "execution_count": 6,
   "id": "53216afd",
   "metadata": {},
   "outputs": [
    {
     "data": {
      "text/html": [
       "<div>\n",
       "<style scoped>\n",
       "    .dataframe tbody tr th:only-of-type {\n",
       "        vertical-align: middle;\n",
       "    }\n",
       "\n",
       "    .dataframe tbody tr th {\n",
       "        vertical-align: top;\n",
       "    }\n",
       "\n",
       "    .dataframe thead th {\n",
       "        text-align: right;\n",
       "    }\n",
       "</style>\n",
       "<table border=\"1\" class=\"dataframe\">\n",
       "  <thead>\n",
       "    <tr style=\"text-align: right;\">\n",
       "      <th></th>\n",
       "      <th>ride_id</th>\n",
       "      <th>rideable_type</th>\n",
       "      <th>started_at</th>\n",
       "      <th>ended_at</th>\n",
       "      <th>start_station_name</th>\n",
       "      <th>start_station_id</th>\n",
       "      <th>end_station_name</th>\n",
       "      <th>end_station_id</th>\n",
       "      <th>start_lat</th>\n",
       "      <th>start_lng</th>\n",
       "      <th>end_lat</th>\n",
       "      <th>end_lng</th>\n",
       "      <th>member_casual</th>\n",
       "    </tr>\n",
       "  </thead>\n",
       "  <tbody>\n",
       "    <tr>\n",
       "      <th>0</th>\n",
       "      <td>954144C2F67B1932</td>\n",
       "      <td>classic_bike</td>\n",
       "      <td>2022-07-05 08:12:47</td>\n",
       "      <td>2022-07-05 08:24:32</td>\n",
       "      <td>Ashland Ave &amp; Blackhawk St</td>\n",
       "      <td>13224</td>\n",
       "      <td>Kingsbury St &amp; Kinzie St</td>\n",
       "      <td>KA1503000043</td>\n",
       "      <td>41.907066</td>\n",
       "      <td>-87.667252</td>\n",
       "      <td>41.889177</td>\n",
       "      <td>-87.638506</td>\n",
       "      <td>member</td>\n",
       "    </tr>\n",
       "    <tr>\n",
       "      <th>1</th>\n",
       "      <td>292E027607D218B6</td>\n",
       "      <td>classic_bike</td>\n",
       "      <td>2022-07-26 12:53:38</td>\n",
       "      <td>2022-07-26 12:55:31</td>\n",
       "      <td>Buckingham Fountain (Temp)</td>\n",
       "      <td>15541</td>\n",
       "      <td>Michigan Ave &amp; 8th St</td>\n",
       "      <td>623</td>\n",
       "      <td>41.869621</td>\n",
       "      <td>-87.623981</td>\n",
       "      <td>41.872773</td>\n",
       "      <td>-87.623981</td>\n",
       "      <td>casual</td>\n",
       "    </tr>\n",
       "    <tr>\n",
       "      <th>2</th>\n",
       "      <td>57765852588AD6E0</td>\n",
       "      <td>classic_bike</td>\n",
       "      <td>2022-07-03 13:58:49</td>\n",
       "      <td>2022-07-03 14:06:32</td>\n",
       "      <td>Buckingham Fountain (Temp)</td>\n",
       "      <td>15541</td>\n",
       "      <td>Michigan Ave &amp; 8th St</td>\n",
       "      <td>623</td>\n",
       "      <td>41.869621</td>\n",
       "      <td>-87.623981</td>\n",
       "      <td>41.872773</td>\n",
       "      <td>-87.623981</td>\n",
       "      <td>casual</td>\n",
       "    </tr>\n",
       "    <tr>\n",
       "      <th>3</th>\n",
       "      <td>B5B6BE44314590E6</td>\n",
       "      <td>classic_bike</td>\n",
       "      <td>2022-07-31 17:44:21</td>\n",
       "      <td>2022-07-31 18:42:50</td>\n",
       "      <td>Buckingham Fountain (Temp)</td>\n",
       "      <td>15541</td>\n",
       "      <td>Woodlawn Ave &amp; 55th St</td>\n",
       "      <td>TA1307000164</td>\n",
       "      <td>41.869621</td>\n",
       "      <td>-87.623981</td>\n",
       "      <td>41.795264</td>\n",
       "      <td>-87.596471</td>\n",
       "      <td>casual</td>\n",
       "    </tr>\n",
       "    <tr>\n",
       "      <th>4</th>\n",
       "      <td>A4C331F2A00E79E0</td>\n",
       "      <td>classic_bike</td>\n",
       "      <td>2022-07-13 19:49:06</td>\n",
       "      <td>2022-07-13 20:15:24</td>\n",
       "      <td>Wabash Ave &amp; Grand Ave</td>\n",
       "      <td>TA1307000117</td>\n",
       "      <td>Sheffield Ave &amp; Wellington Ave</td>\n",
       "      <td>TA1307000052</td>\n",
       "      <td>41.891466</td>\n",
       "      <td>-87.626761</td>\n",
       "      <td>41.936253</td>\n",
       "      <td>-87.652662</td>\n",
       "      <td>member</td>\n",
       "    </tr>\n",
       "  </tbody>\n",
       "</table>\n",
       "</div>"
      ],
      "text/plain": [
       "            ride_id rideable_type           started_at             ended_at  \\\n",
       "0  954144C2F67B1932  classic_bike  2022-07-05 08:12:47  2022-07-05 08:24:32   \n",
       "1  292E027607D218B6  classic_bike  2022-07-26 12:53:38  2022-07-26 12:55:31   \n",
       "2  57765852588AD6E0  classic_bike  2022-07-03 13:58:49  2022-07-03 14:06:32   \n",
       "3  B5B6BE44314590E6  classic_bike  2022-07-31 17:44:21  2022-07-31 18:42:50   \n",
       "4  A4C331F2A00E79E0  classic_bike  2022-07-13 19:49:06  2022-07-13 20:15:24   \n",
       "\n",
       "           start_station_name start_station_id  \\\n",
       "0  Ashland Ave & Blackhawk St            13224   \n",
       "1  Buckingham Fountain (Temp)            15541   \n",
       "2  Buckingham Fountain (Temp)            15541   \n",
       "3  Buckingham Fountain (Temp)            15541   \n",
       "4      Wabash Ave & Grand Ave     TA1307000117   \n",
       "\n",
       "                 end_station_name end_station_id  start_lat  start_lng  \\\n",
       "0        Kingsbury St & Kinzie St   KA1503000043  41.907066 -87.667252   \n",
       "1           Michigan Ave & 8th St            623  41.869621 -87.623981   \n",
       "2           Michigan Ave & 8th St            623  41.869621 -87.623981   \n",
       "3          Woodlawn Ave & 55th St   TA1307000164  41.869621 -87.623981   \n",
       "4  Sheffield Ave & Wellington Ave   TA1307000052  41.891466 -87.626761   \n",
       "\n",
       "     end_lat    end_lng member_casual  \n",
       "0  41.889177 -87.638506        member  \n",
       "1  41.872773 -87.623981        casual  \n",
       "2  41.872773 -87.623981        casual  \n",
       "3  41.795264 -87.596471        casual  \n",
       "4  41.936253 -87.652662        member  "
      ]
     },
     "execution_count": 6,
     "metadata": {},
     "output_type": "execute_result"
    }
   ],
   "source": [
    "combined_df.head()"
   ]
  },
  {
   "cell_type": "markdown",
   "id": "b35652e7",
   "metadata": {},
   "source": [
    "## Process\n",
    "Check for data information <br>\n",
    "data cleaning <br>\n",
    "manage data "
   ]
  },
  {
   "cell_type": "code",
   "execution_count": 7,
   "id": "85dabfcb",
   "metadata": {},
   "outputs": [
    {
     "data": {
      "text/plain": [
       "ride_id                    0\n",
       "rideable_type              0\n",
       "started_at                 0\n",
       "ended_at                   0\n",
       "start_station_name    857860\n",
       "start_station_id      857992\n",
       "end_station_name      915655\n",
       "end_station_id        915796\n",
       "start_lat                  0\n",
       "start_lng                  0\n",
       "end_lat                 5795\n",
       "end_lng                 5795\n",
       "member_casual              0\n",
       "dtype: int64"
      ]
     },
     "execution_count": 7,
     "metadata": {},
     "output_type": "execute_result"
    }
   ],
   "source": [
    "# check nul value\n",
    "combined_df.isnull().sum()"
   ]
  },
  {
   "cell_type": "code",
   "execution_count": 8,
   "id": "b6afb0d2",
   "metadata": {},
   "outputs": [
    {
     "data": {
      "text/plain": [
       "ride_id                0.000000\n",
       "rideable_type          0.000000\n",
       "started_at             0.000000\n",
       "ended_at               0.000000\n",
       "start_station_name    14.843296\n",
       "start_station_id      14.845580\n",
       "end_station_name      15.843306\n",
       "end_station_id        15.845746\n",
       "start_lat              0.000000\n",
       "start_lng              0.000000\n",
       "end_lat                0.100269\n",
       "end_lng                0.100269\n",
       "member_casual          0.000000\n",
       "dtype: float64"
      ]
     },
     "execution_count": 8,
     "metadata": {},
     "output_type": "execute_result"
    }
   ],
   "source": [
    "# check the null if over 80% then we should remove entire field(column)\n",
    "combined_df.isnull().sum()*100/len(combined_df)\n",
    "# after running there is no need to remove entire column --> \n",
    "# we can remove row that contain null, we can replace it with mean or most frequent for categorical value"
   ]
  },
  {
   "cell_type": "code",
   "execution_count": 9,
   "id": "a3d6555c",
   "metadata": {},
   "outputs": [],
   "source": [
    "# since there is alot of data in the dataset, can we do a completely remove the entire row of the null value\n",
    "combined_df.dropna(inplace=True)"
   ]
  },
  {
   "cell_type": "code",
   "execution_count": 10,
   "id": "95b1b287",
   "metadata": {},
   "outputs": [
    {
     "data": {
      "text/plain": [
       "(4409089, 13)"
      ]
     },
     "execution_count": 10,
     "metadata": {},
     "output_type": "execute_result"
    }
   ],
   "source": [
    "combined_df.shape\n",
    "# the row was gradually reduce "
   ]
  },
  {
   "cell_type": "code",
   "execution_count": 11,
   "id": "925dc6bb",
   "metadata": {},
   "outputs": [],
   "source": [
    "# let remove the duplicate row from our dataset\n",
    "combined_df.drop_duplicates(inplace=True)"
   ]
  },
  {
   "cell_type": "code",
   "execution_count": 12,
   "id": "af4e9997",
   "metadata": {},
   "outputs": [
    {
     "data": {
      "text/plain": [
       "array(['member', 'casual'], dtype=object)"
      ]
     },
     "execution_count": 12,
     "metadata": {},
     "output_type": "execute_result"
    }
   ],
   "source": [
    "# to get what type of categorical columns looks like and is there any abnormal\n",
    "combined_df['member_casual'].unique()"
   ]
  },
  {
   "cell_type": "code",
   "execution_count": 13,
   "id": "28011b78",
   "metadata": {},
   "outputs": [],
   "source": [
    "# create ride length field\n",
    "combined_df['started_at'] = pd.to_datetime(df['started_at'], format='%Y-%m-%d %H:%M:%S')\n",
    "combined_df['ended_at'] = pd.to_datetime(df['ended_at'], format='%Y-%m-%d %H:%M:%S')\n",
    "combined_df['ride_length'] = (combined_df['ended_at'] - combined_df['started_at']).dt.total_seconds()/3600\n"
   ]
  },
  {
   "cell_type": "code",
   "execution_count": 14,
   "id": "306b8844",
   "metadata": {},
   "outputs": [],
   "source": [
    "# create day of the week from started field\n",
    "combined_df['day_of_week'] = combined_df['started_at'].dt.day_name()"
   ]
  },
  {
   "cell_type": "code",
   "execution_count": 15,
   "id": "9701027d",
   "metadata": {},
   "outputs": [],
   "source": [
    "# im not gonna use start_lat, start_lng, end_lat, and end_long, start_station_id,end_station_id columns, then i will drop\n",
    "combined_df.drop(['start_lat', 'start_lng', 'end_lat', 'end_lng', 'start_station_id', 'end_station_id'], axis=1, inplace=True)"
   ]
  },
  {
   "cell_type": "code",
   "execution_count": 16,
   "id": "0de62cec",
   "metadata": {},
   "outputs": [
    {
     "name": "stdout",
     "output_type": "stream",
     "text": [
      "<class 'pandas.core.frame.DataFrame'>\n",
      "Int64Index: 4409089 entries, 0 to 5779439\n",
      "Data columns (total 9 columns):\n",
      " #   Column              Dtype         \n",
      "---  ------              -----         \n",
      " 0   ride_id             object        \n",
      " 1   rideable_type       object        \n",
      " 2   started_at          datetime64[ns]\n",
      " 3   ended_at            datetime64[ns]\n",
      " 4   start_station_name  object        \n",
      " 5   end_station_name    object        \n",
      " 6   member_casual       object        \n",
      " 7   ride_length         float64       \n",
      " 8   day_of_week         object        \n",
      "dtypes: datetime64[ns](2), float64(1), object(6)\n",
      "memory usage: 336.4+ MB\n"
     ]
    }
   ],
   "source": [
    "combined_df.info()"
   ]
  },
  {
   "cell_type": "code",
   "execution_count": 17,
   "id": "4a77dd70",
   "metadata": {},
   "outputs": [
    {
     "data": {
      "text/html": [
       "<div>\n",
       "<style scoped>\n",
       "    .dataframe tbody tr th:only-of-type {\n",
       "        vertical-align: middle;\n",
       "    }\n",
       "\n",
       "    .dataframe tbody tr th {\n",
       "        vertical-align: top;\n",
       "    }\n",
       "\n",
       "    .dataframe thead th {\n",
       "        text-align: right;\n",
       "    }\n",
       "</style>\n",
       "<table border=\"1\" class=\"dataframe\">\n",
       "  <thead>\n",
       "    <tr style=\"text-align: right;\">\n",
       "      <th></th>\n",
       "      <th>ride_id</th>\n",
       "      <th>rideable_type</th>\n",
       "      <th>started_at</th>\n",
       "      <th>ended_at</th>\n",
       "      <th>start_station_name</th>\n",
       "      <th>end_station_name</th>\n",
       "      <th>member_casual</th>\n",
       "      <th>ride_length</th>\n",
       "      <th>day_of_week</th>\n",
       "    </tr>\n",
       "  </thead>\n",
       "  <tbody>\n",
       "    <tr>\n",
       "      <th>0</th>\n",
       "      <td>954144C2F67B1932</td>\n",
       "      <td>classic_bike</td>\n",
       "      <td>2023-06-05 13:34:12</td>\n",
       "      <td>2023-06-05 14:31:56</td>\n",
       "      <td>Ashland Ave &amp; Blackhawk St</td>\n",
       "      <td>Kingsbury St &amp; Kinzie St</td>\n",
       "      <td>member</td>\n",
       "      <td>0.962222</td>\n",
       "      <td>Monday</td>\n",
       "    </tr>\n",
       "    <tr>\n",
       "      <th>1</th>\n",
       "      <td>292E027607D218B6</td>\n",
       "      <td>classic_bike</td>\n",
       "      <td>2023-06-05 01:30:22</td>\n",
       "      <td>2023-06-05 01:33:06</td>\n",
       "      <td>Buckingham Fountain (Temp)</td>\n",
       "      <td>Michigan Ave &amp; 8th St</td>\n",
       "      <td>casual</td>\n",
       "      <td>0.045556</td>\n",
       "      <td>Monday</td>\n",
       "    </tr>\n",
       "    <tr>\n",
       "      <th>2</th>\n",
       "      <td>57765852588AD6E0</td>\n",
       "      <td>classic_bike</td>\n",
       "      <td>2023-06-20 18:15:49</td>\n",
       "      <td>2023-06-20 18:32:05</td>\n",
       "      <td>Buckingham Fountain (Temp)</td>\n",
       "      <td>Michigan Ave &amp; 8th St</td>\n",
       "      <td>casual</td>\n",
       "      <td>0.271111</td>\n",
       "      <td>Tuesday</td>\n",
       "    </tr>\n",
       "    <tr>\n",
       "      <th>3</th>\n",
       "      <td>B5B6BE44314590E6</td>\n",
       "      <td>classic_bike</td>\n",
       "      <td>2023-06-19 14:56:00</td>\n",
       "      <td>2023-06-19 15:00:35</td>\n",
       "      <td>Buckingham Fountain (Temp)</td>\n",
       "      <td>Woodlawn Ave &amp; 55th St</td>\n",
       "      <td>casual</td>\n",
       "      <td>0.076389</td>\n",
       "      <td>Monday</td>\n",
       "    </tr>\n",
       "    <tr>\n",
       "      <th>4</th>\n",
       "      <td>A4C331F2A00E79E0</td>\n",
       "      <td>classic_bike</td>\n",
       "      <td>2023-06-19 15:03:34</td>\n",
       "      <td>2023-06-19 15:07:16</td>\n",
       "      <td>Wabash Ave &amp; Grand Ave</td>\n",
       "      <td>Sheffield Ave &amp; Wellington Ave</td>\n",
       "      <td>member</td>\n",
       "      <td>0.061667</td>\n",
       "      <td>Monday</td>\n",
       "    </tr>\n",
       "  </tbody>\n",
       "</table>\n",
       "</div>"
      ],
      "text/plain": [
       "            ride_id rideable_type          started_at            ended_at  \\\n",
       "0  954144C2F67B1932  classic_bike 2023-06-05 13:34:12 2023-06-05 14:31:56   \n",
       "1  292E027607D218B6  classic_bike 2023-06-05 01:30:22 2023-06-05 01:33:06   \n",
       "2  57765852588AD6E0  classic_bike 2023-06-20 18:15:49 2023-06-20 18:32:05   \n",
       "3  B5B6BE44314590E6  classic_bike 2023-06-19 14:56:00 2023-06-19 15:00:35   \n",
       "4  A4C331F2A00E79E0  classic_bike 2023-06-19 15:03:34 2023-06-19 15:07:16   \n",
       "\n",
       "           start_station_name                end_station_name member_casual  \\\n",
       "0  Ashland Ave & Blackhawk St        Kingsbury St & Kinzie St        member   \n",
       "1  Buckingham Fountain (Temp)           Michigan Ave & 8th St        casual   \n",
       "2  Buckingham Fountain (Temp)           Michigan Ave & 8th St        casual   \n",
       "3  Buckingham Fountain (Temp)          Woodlawn Ave & 55th St        casual   \n",
       "4      Wabash Ave & Grand Ave  Sheffield Ave & Wellington Ave        member   \n",
       "\n",
       "   ride_length day_of_week  \n",
       "0     0.962222      Monday  \n",
       "1     0.045556      Monday  \n",
       "2     0.271111     Tuesday  \n",
       "3     0.076389      Monday  \n",
       "4     0.061667      Monday  "
      ]
     },
     "execution_count": 17,
     "metadata": {},
     "output_type": "execute_result"
    }
   ],
   "source": [
    "combined_df.head()"
   ]
  },
  {
   "cell_type": "markdown",
   "id": "b9c0c02e",
   "metadata": {},
   "source": [
    "## Analyze\n",
    "bring some important questions <br>\n",
    "use data and coding to find the answer to those questions"
   ]
  },
  {
   "cell_type": "code",
   "execution_count": 18,
   "id": "363c8c06",
   "metadata": {
    "scrolled": false
   },
   "outputs": [
    {
     "name": "stderr",
     "output_type": "stream",
     "text": [
      "C:\\Users\\ASUS ZENBOOK\\AppData\\Local\\Temp\\ipykernel_18348\\721830501.py:2: FutureWarning: Treating datetime data as categorical rather than numeric in `.describe` is deprecated and will be removed in a future version of pandas. Specify `datetime_is_numeric=True` to silence this warning and adopt the future behavior now.\n",
      "  combined_df.describe(include='all')\n",
      "C:\\Users\\ASUS ZENBOOK\\AppData\\Local\\Temp\\ipykernel_18348\\721830501.py:2: FutureWarning: Treating datetime data as categorical rather than numeric in `.describe` is deprecated and will be removed in a future version of pandas. Specify `datetime_is_numeric=True` to silence this warning and adopt the future behavior now.\n",
      "  combined_df.describe(include='all')\n"
     ]
    },
    {
     "data": {
      "text/html": [
       "<div>\n",
       "<style scoped>\n",
       "    .dataframe tbody tr th:only-of-type {\n",
       "        vertical-align: middle;\n",
       "    }\n",
       "\n",
       "    .dataframe tbody tr th {\n",
       "        vertical-align: top;\n",
       "    }\n",
       "\n",
       "    .dataframe thead th {\n",
       "        text-align: right;\n",
       "    }\n",
       "</style>\n",
       "<table border=\"1\" class=\"dataframe\">\n",
       "  <thead>\n",
       "    <tr style=\"text-align: right;\">\n",
       "      <th></th>\n",
       "      <th>ride_id</th>\n",
       "      <th>rideable_type</th>\n",
       "      <th>started_at</th>\n",
       "      <th>ended_at</th>\n",
       "      <th>start_station_name</th>\n",
       "      <th>end_station_name</th>\n",
       "      <th>member_casual</th>\n",
       "      <th>ride_length</th>\n",
       "      <th>day_of_week</th>\n",
       "    </tr>\n",
       "  </thead>\n",
       "  <tbody>\n",
       "    <tr>\n",
       "      <th>count</th>\n",
       "      <td>4409089</td>\n",
       "      <td>4409089</td>\n",
       "      <td>574442</td>\n",
       "      <td>574442</td>\n",
       "      <td>4409089</td>\n",
       "      <td>4409089</td>\n",
       "      <td>4409089</td>\n",
       "      <td>574442.000000</td>\n",
       "      <td>574442</td>\n",
       "    </tr>\n",
       "    <tr>\n",
       "      <th>unique</th>\n",
       "      <td>4409089</td>\n",
       "      <td>3</td>\n",
       "      <td>483858</td>\n",
       "      <td>485435</td>\n",
       "      <td>1702</td>\n",
       "      <td>1722</td>\n",
       "      <td>2</td>\n",
       "      <td>NaN</td>\n",
       "      <td>7</td>\n",
       "    </tr>\n",
       "    <tr>\n",
       "      <th>top</th>\n",
       "      <td>954144C2F67B1932</td>\n",
       "      <td>classic_bike</td>\n",
       "      <td>2023-06-23 17:51:51</td>\n",
       "      <td>2023-06-24 13:32:31</td>\n",
       "      <td>Streeter Dr &amp; Grand Ave</td>\n",
       "      <td>Streeter Dr &amp; Grand Ave</td>\n",
       "      <td>member</td>\n",
       "      <td>NaN</td>\n",
       "      <td>Friday</td>\n",
       "    </tr>\n",
       "    <tr>\n",
       "      <th>freq</th>\n",
       "      <td>1</td>\n",
       "      <td>2491986</td>\n",
       "      <td>7</td>\n",
       "      <td>7</td>\n",
       "      <td>65900</td>\n",
       "      <td>67544</td>\n",
       "      <td>2733456</td>\n",
       "      <td>NaN</td>\n",
       "      <td>104124</td>\n",
       "    </tr>\n",
       "    <tr>\n",
       "      <th>first</th>\n",
       "      <td>NaN</td>\n",
       "      <td>NaN</td>\n",
       "      <td>2023-06-01 00:00:44</td>\n",
       "      <td>2023-06-01 00:02:56</td>\n",
       "      <td>NaN</td>\n",
       "      <td>NaN</td>\n",
       "      <td>NaN</td>\n",
       "      <td>NaN</td>\n",
       "      <td>NaN</td>\n",
       "    </tr>\n",
       "    <tr>\n",
       "      <th>last</th>\n",
       "      <td>NaN</td>\n",
       "      <td>NaN</td>\n",
       "      <td>2023-06-30 23:59:56</td>\n",
       "      <td>2023-07-10 19:24:29</td>\n",
       "      <td>NaN</td>\n",
       "      <td>NaN</td>\n",
       "      <td>NaN</td>\n",
       "      <td>NaN</td>\n",
       "      <td>NaN</td>\n",
       "    </tr>\n",
       "    <tr>\n",
       "      <th>mean</th>\n",
       "      <td>NaN</td>\n",
       "      <td>NaN</td>\n",
       "      <td>NaN</td>\n",
       "      <td>NaN</td>\n",
       "      <td>NaN</td>\n",
       "      <td>NaN</td>\n",
       "      <td>NaN</td>\n",
       "      <td>0.329633</td>\n",
       "      <td>NaN</td>\n",
       "    </tr>\n",
       "    <tr>\n",
       "      <th>std</th>\n",
       "      <td>NaN</td>\n",
       "      <td>NaN</td>\n",
       "      <td>NaN</td>\n",
       "      <td>NaN</td>\n",
       "      <td>NaN</td>\n",
       "      <td>NaN</td>\n",
       "      <td>NaN</td>\n",
       "      <td>2.567618</td>\n",
       "      <td>NaN</td>\n",
       "    </tr>\n",
       "    <tr>\n",
       "      <th>min</th>\n",
       "      <td>NaN</td>\n",
       "      <td>NaN</td>\n",
       "      <td>NaN</td>\n",
       "      <td>NaN</td>\n",
       "      <td>NaN</td>\n",
       "      <td>NaN</td>\n",
       "      <td>NaN</td>\n",
       "      <td>-0.000278</td>\n",
       "      <td>NaN</td>\n",
       "    </tr>\n",
       "    <tr>\n",
       "      <th>25%</th>\n",
       "      <td>NaN</td>\n",
       "      <td>NaN</td>\n",
       "      <td>NaN</td>\n",
       "      <td>NaN</td>\n",
       "      <td>NaN</td>\n",
       "      <td>NaN</td>\n",
       "      <td>NaN</td>\n",
       "      <td>0.102222</td>\n",
       "      <td>NaN</td>\n",
       "    </tr>\n",
       "    <tr>\n",
       "      <th>50%</th>\n",
       "      <td>NaN</td>\n",
       "      <td>NaN</td>\n",
       "      <td>NaN</td>\n",
       "      <td>NaN</td>\n",
       "      <td>NaN</td>\n",
       "      <td>NaN</td>\n",
       "      <td>NaN</td>\n",
       "      <td>0.178611</td>\n",
       "      <td>NaN</td>\n",
       "    </tr>\n",
       "    <tr>\n",
       "      <th>75%</th>\n",
       "      <td>NaN</td>\n",
       "      <td>NaN</td>\n",
       "      <td>NaN</td>\n",
       "      <td>NaN</td>\n",
       "      <td>NaN</td>\n",
       "      <td>NaN</td>\n",
       "      <td>NaN</td>\n",
       "      <td>0.314167</td>\n",
       "      <td>NaN</td>\n",
       "    </tr>\n",
       "    <tr>\n",
       "      <th>max</th>\n",
       "      <td>NaN</td>\n",
       "      <td>NaN</td>\n",
       "      <td>NaN</td>\n",
       "      <td>NaN</td>\n",
       "      <td>NaN</td>\n",
       "      <td>NaN</td>\n",
       "      <td>NaN</td>\n",
       "      <td>491.099444</td>\n",
       "      <td>NaN</td>\n",
       "    </tr>\n",
       "  </tbody>\n",
       "</table>\n",
       "</div>"
      ],
      "text/plain": [
       "                 ride_id rideable_type           started_at  \\\n",
       "count            4409089       4409089               574442   \n",
       "unique           4409089             3               483858   \n",
       "top     954144C2F67B1932  classic_bike  2023-06-23 17:51:51   \n",
       "freq                   1       2491986                    7   \n",
       "first                NaN           NaN  2023-06-01 00:00:44   \n",
       "last                 NaN           NaN  2023-06-30 23:59:56   \n",
       "mean                 NaN           NaN                  NaN   \n",
       "std                  NaN           NaN                  NaN   \n",
       "min                  NaN           NaN                  NaN   \n",
       "25%                  NaN           NaN                  NaN   \n",
       "50%                  NaN           NaN                  NaN   \n",
       "75%                  NaN           NaN                  NaN   \n",
       "max                  NaN           NaN                  NaN   \n",
       "\n",
       "                   ended_at       start_station_name         end_station_name  \\\n",
       "count                574442                  4409089                  4409089   \n",
       "unique               485435                     1702                     1722   \n",
       "top     2023-06-24 13:32:31  Streeter Dr & Grand Ave  Streeter Dr & Grand Ave   \n",
       "freq                      7                    65900                    67544   \n",
       "first   2023-06-01 00:02:56                      NaN                      NaN   \n",
       "last    2023-07-10 19:24:29                      NaN                      NaN   \n",
       "mean                    NaN                      NaN                      NaN   \n",
       "std                     NaN                      NaN                      NaN   \n",
       "min                     NaN                      NaN                      NaN   \n",
       "25%                     NaN                      NaN                      NaN   \n",
       "50%                     NaN                      NaN                      NaN   \n",
       "75%                     NaN                      NaN                      NaN   \n",
       "max                     NaN                      NaN                      NaN   \n",
       "\n",
       "       member_casual    ride_length day_of_week  \n",
       "count        4409089  574442.000000      574442  \n",
       "unique             2            NaN           7  \n",
       "top           member            NaN      Friday  \n",
       "freq         2733456            NaN      104124  \n",
       "first            NaN            NaN         NaN  \n",
       "last             NaN            NaN         NaN  \n",
       "mean             NaN       0.329633         NaN  \n",
       "std              NaN       2.567618         NaN  \n",
       "min              NaN      -0.000278         NaN  \n",
       "25%              NaN       0.102222         NaN  \n",
       "50%              NaN       0.178611         NaN  \n",
       "75%              NaN       0.314167         NaN  \n",
       "max              NaN     491.099444         NaN  "
      ]
     },
     "execution_count": 18,
     "metadata": {},
     "output_type": "execute_result"
    }
   ],
   "source": [
    "# descriptive analyst on all variables\n",
    "combined_df.describe(include='all')"
   ]
  },
  {
   "cell_type": "code",
   "execution_count": 19,
   "id": "8bda7a8c",
   "metadata": {},
   "outputs": [
    {
     "data": {
      "text/plain": [
       "'Friday'"
      ]
     },
     "execution_count": 19,
     "metadata": {},
     "output_type": "execute_result"
    }
   ],
   "source": [
    "# to pick what is the most use in the day of the week\n",
    "combined_df['day_of_week'].mode().values[0]"
   ]
  },
  {
   "cell_type": "code",
   "execution_count": 20,
   "id": "4e1ca48a",
   "metadata": {},
   "outputs": [
    {
     "data": {
      "text/html": [
       "<div>\n",
       "<style scoped>\n",
       "    .dataframe tbody tr th:only-of-type {\n",
       "        vertical-align: middle;\n",
       "    }\n",
       "\n",
       "    .dataframe tbody tr th {\n",
       "        vertical-align: top;\n",
       "    }\n",
       "\n",
       "    .dataframe thead th {\n",
       "        text-align: right;\n",
       "    }\n",
       "</style>\n",
       "<table border=\"1\" class=\"dataframe\">\n",
       "  <thead>\n",
       "    <tr style=\"text-align: right;\">\n",
       "      <th>member_casual</th>\n",
       "      <th>casual</th>\n",
       "      <th>member</th>\n",
       "    </tr>\n",
       "  </thead>\n",
       "  <tbody>\n",
       "    <tr>\n",
       "      <th>ride_length</th>\n",
       "      <td>0.333544</td>\n",
       "      <td>0.326009</td>\n",
       "    </tr>\n",
       "  </tbody>\n",
       "</table>\n",
       "</div>"
      ],
      "text/plain": [
       "member_casual    casual    member\n",
       "ride_length    0.333544  0.326009"
      ]
     },
     "execution_count": 20,
     "metadata": {},
     "output_type": "execute_result"
    }
   ],
   "source": [
    "pd.pivot_table(combined_df, columns=['member_casual'],values=['ride_length'], aggfunc='mean')"
   ]
  },
  {
   "cell_type": "code",
   "execution_count": 21,
   "id": "725b2bcc",
   "metadata": {},
   "outputs": [
    {
     "data": {
      "text/html": [
       "<div>\n",
       "<style scoped>\n",
       "    .dataframe tbody tr th:only-of-type {\n",
       "        vertical-align: middle;\n",
       "    }\n",
       "\n",
       "    .dataframe tbody tr th {\n",
       "        vertical-align: top;\n",
       "    }\n",
       "\n",
       "    .dataframe thead tr th {\n",
       "        text-align: left;\n",
       "    }\n",
       "\n",
       "    .dataframe thead tr:last-of-type th {\n",
       "        text-align: right;\n",
       "    }\n",
       "</style>\n",
       "<table border=\"1\" class=\"dataframe\">\n",
       "  <thead>\n",
       "    <tr>\n",
       "      <th></th>\n",
       "      <th colspan=\"7\" halign=\"left\">ride_length</th>\n",
       "    </tr>\n",
       "    <tr>\n",
       "      <th>day_of_week</th>\n",
       "      <th>Friday</th>\n",
       "      <th>Monday</th>\n",
       "      <th>Saturday</th>\n",
       "      <th>Sunday</th>\n",
       "      <th>Thursday</th>\n",
       "      <th>Tuesday</th>\n",
       "      <th>Wednesday</th>\n",
       "    </tr>\n",
       "    <tr>\n",
       "      <th>member_casual</th>\n",
       "      <th></th>\n",
       "      <th></th>\n",
       "      <th></th>\n",
       "      <th></th>\n",
       "      <th></th>\n",
       "      <th></th>\n",
       "      <th></th>\n",
       "    </tr>\n",
       "  </thead>\n",
       "  <tbody>\n",
       "    <tr>\n",
       "      <th>casual</th>\n",
       "      <td>0.345668</td>\n",
       "      <td>0.310492</td>\n",
       "      <td>0.407329</td>\n",
       "      <td>0.391399</td>\n",
       "      <td>0.288197</td>\n",
       "      <td>0.271075</td>\n",
       "      <td>0.29296</td>\n",
       "    </tr>\n",
       "    <tr>\n",
       "      <th>member</th>\n",
       "      <td>0.337056</td>\n",
       "      <td>0.295530</td>\n",
       "      <td>0.418583</td>\n",
       "      <td>0.381677</td>\n",
       "      <td>0.277912</td>\n",
       "      <td>0.257823</td>\n",
       "      <td>0.27938</td>\n",
       "    </tr>\n",
       "  </tbody>\n",
       "</table>\n",
       "</div>"
      ],
      "text/plain": [
       "              ride_length                                                    \\\n",
       "day_of_week        Friday    Monday  Saturday    Sunday  Thursday   Tuesday   \n",
       "member_casual                                                                 \n",
       "casual           0.345668  0.310492  0.407329  0.391399  0.288197  0.271075   \n",
       "member           0.337056  0.295530  0.418583  0.381677  0.277912  0.257823   \n",
       "\n",
       "                         \n",
       "day_of_week   Wednesday  \n",
       "member_casual            \n",
       "casual          0.29296  \n",
       "member          0.27938  "
      ]
     },
     "execution_count": 21,
     "metadata": {},
     "output_type": "execute_result"
    }
   ],
   "source": [
    "pd.pivot_table(combined_df, columns=['day_of_week'], values=['ride_length'], index=['member_casual'],aggfunc='mean')"
   ]
  },
  {
   "cell_type": "code",
   "execution_count": 22,
   "id": "35b1e617",
   "metadata": {},
   "outputs": [
    {
     "data": {
      "text/plain": [
       "Friday       104124\n",
       "Saturday     103347\n",
       "Thursday      93942\n",
       "Wednesday     76465\n",
       "Monday        68591\n",
       "Sunday        66467\n",
       "Tuesday       61506\n",
       "Name: day_of_week, dtype: int64"
      ]
     },
     "execution_count": 22,
     "metadata": {},
     "output_type": "execute_result"
    }
   ],
   "source": [
    "combined_df['day_of_week'].value_counts()"
   ]
  },
  {
   "cell_type": "code",
   "execution_count": null,
   "id": "a1415018",
   "metadata": {},
   "outputs": [],
   "source": []
  },
  {
   "cell_type": "markdown",
   "id": "b7f2675b",
   "metadata": {},
   "source": [
    "## Share"
   ]
  },
  {
   "cell_type": "code",
   "execution_count": 23,
   "id": "d0347e67",
   "metadata": {},
   "outputs": [
    {
     "data": {
      "image/png": "[encoded data removed]",
      "text/plain": [
       "<Figure size 640x480 with 1 Axes>"
      ]
     },
     "metadata": {},
     "output_type": "display_data"
    }
   ],
   "source": [
    "# both casual and annual, doesn't answer the question 1\n",
    "combined_df['day_of_week'].value_counts().plot(kind='bar')\n",
    "plt.show()"
   ]
  },
  {
   "cell_type": "code",
   "execution_count": 29,
   "id": "556b0c55",
   "metadata": {},
   "outputs": [
    {
     "data": {
      "image/png": "[encoded data removed]",
      "text/plain": [
       "<Figure size 640x480 with 1 Axes>"
      ]
     },
     "metadata": {},
     "output_type": "display_data"
    }
   ],
   "source": [
    "# this can give more insignt for 1st question\n",
    "order_day = ['Monday', 'Tuesday', 'Wednesday', 'Thursday', 'Friday','Saturday', 'Sunday']\n",
    "sns.countplot(x='day_of_week', hue='member_casual', data=combined_df, order=order_day)\n",
    "plt.show()"
   ]
  },
  {
   "cell_type": "markdown",
   "id": "5122b4e0",
   "metadata": {},
   "source": [
    "## Act"
   ]
  },
  {
   "cell_type": "markdown",
   "id": "3d4c4262",
   "metadata": {},
   "source": [
    "Let say that the most use of the time is friday and Satursday, this indicate that these 2 day are close to weekend so most people have to use the cyclic for relaxing or traveling around. Further break down between casual and annual that we can wee the number of annual member tend to use more than the casual."
   ]
  }
 ],
 "metadata": {
  "kernelspec": {
   "display_name": "Python 3 (ipykernel)",
   "language": "python",
   "name": "python3"
  },
  "language_info": {
   "codemirror_mode": {
    "name": "ipython",
    "version": 3
   },
   "file_extension": ".py",
   "mimetype": "text/x-python",
   "name": "python",
   "nbconvert_exporter": "python",
   "pygments_lexer": "ipython3",
   "version": "3.11.4"
  }
 },
 "nbformat": 4,
 "nbformat_minor": 5
}
